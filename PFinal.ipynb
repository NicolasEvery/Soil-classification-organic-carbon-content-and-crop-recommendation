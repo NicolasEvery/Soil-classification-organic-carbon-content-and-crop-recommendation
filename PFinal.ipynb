{
  "nbformat": 4,
  "nbformat_minor": 0,
  "metadata": {
    "colab": {
      "provenance": []
    },
    "kernelspec": {
      "name": "python3",
      "display_name": "Python 3"
    },
    "language_info": {
      "name": "python"
    }
  },
  "cells": [
    {
      "cell_type": "code",
      "execution_count": 9,
      "metadata": {
        "colab": {
          "base_uri": "https://localhost:8080/"
        },
        "id": "wNWNkCfFcvkd",
        "outputId": "29000952-168d-40bb-9850-8d546fdf9553"
      },
      "outputs": [
        {
          "output_type": "stream",
          "name": "stdout",
          "text": [
            "Images batch shape: torch.Size([10, 3, 224, 224])\n",
            "Labels batch shape: torch.Size([10])\n"
          ]
        }
      ],
      "source": [
        "import os\n",
        "import torch\n",
        "import torchvision.transforms as transforms\n",
        "from torchvision.datasets import ImageFolder\n",
        "from torch.utils.data import DataLoader\n",
        "\n",
        "dataset_path = \"/content/Soil types\"\n",
        "\n",
        "data_transforms = transforms.Compose([\n",
        "    transforms.RandomHorizontalFlip(),  # Randomly flip the images horizontally\n",
        "    transforms.RandomRotation(10),      # Randomly rotate the images by up to 10 degrees\n",
        "    transforms.Resize((224, 224)),      # Resize the images to 224x224 pixels\n",
        "    transforms.ToTensor(),              # Convert the images to PyTorch tensors\n",
        "    transforms.Normalize(               # Normalize the images using the mean and standard deviation of the ImageNet dataset\n",
        "        mean=[0.485, 0.456, 0.406],\n",
        "        std=[0.229, 0.224, 0.225]\n",
        "    )\n",
        "])\n",
        "\n",
        "soil_dataset = ImageFolder(root=dataset_path, transform=data_transforms)\n",
        "\n",
        "batch_size = 10\n",
        "soil_dataloader = DataLoader(soil_dataset, batch_size=batch_size, shuffle=True, num_workers=4)\n",
        "\n",
        "for images, labels in soil_dataloader:\n",
        "    print(f\"Images batch shape: {images.shape}\")\n",
        "    print(f\"Labels batch shape: {labels.shape}\")\n",
        "    break\n"
      ]
    },
    {
      "cell_type": "code",
      "source": [
        "!unzip /content/soilClass.zip"
      ],
      "metadata": {
        "id": "_VZtDiLedl5N"
      },
      "execution_count": null,
      "outputs": []
    },
    {
      "cell_type": "code",
      "source": [
        "soil_dataloader"
      ],
      "metadata": {
        "colab": {
          "base_uri": "https://localhost:8080/"
        },
        "id": "f7mM_CAIeUmu",
        "outputId": "7af7e10d-c905-4861-9076-6c8b839bf374"
      },
      "execution_count": 6,
      "outputs": [
        {
          "output_type": "execute_result",
          "data": {
            "text/plain": [
              "<torch.utils.data.dataloader.DataLoader at 0x7fe1fc3e8160>"
            ]
          },
          "metadata": {},
          "execution_count": 6
        }
      ]
    }
  ]
}